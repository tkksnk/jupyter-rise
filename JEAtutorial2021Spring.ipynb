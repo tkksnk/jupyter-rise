{
 "cells": [
  {
   "cell_type": "markdown",
   "metadata": {
    "slideshow": {
     "slide_type": "slide"
    }
   },
   "source": [
    "<div style=\"text-align: center;\">\n",
    "日本経済学会2021年度春季大会\n",
    "<br>\n",
    "企画セッション１：定量的マクロ経済学の数値計算手法と応用\n",
    "<br>\n",
    "（日本学術会議・経済学委員会　数量的経済・政策分析分科会主催チュートリアルセッション）\n",
    "<br>\n",
    "<br>\n",
    "<div style=\"text-align: center;\">\n",
    "    <b>ニューケインジアン・モデルの新展開</b>\n",
    "<br>\n",
    "<br>\n",
    "<div style=\"text-align: center;\">    \n",
    "2021年5月\n",
    "<br>\n",
    "<d1v style=\"text-align: center;\">   \n",
    "一橋大学経済学部　砂川武貴"
   ]
  },
  {
   "cell_type": "markdown",
   "metadata": {
    "slideshow": {
     "slide_type": "slide"
    }
   },
   "source": [
    "## イントロダクション\n",
    "\n",
    "- これまでは、時間反復法を用いて新古典派成長モデルを数値的に解く方法を示した\n",
    "\n",
    "- 時間反復法では、解の必要条件である均衡条件を連立方程式とみなしてモデルの解を求める\n",
    "\n",
    "- 均衡条件を求めること自体は比較的容易なため、この方法の汎用性は高い\n",
    "\n",
    "- ここでは、金融政策分析に使われるニューケインジアン・モデルを、非線形性を考慮して解いていく"
   ]
  },
  {
   "cell_type": "markdown",
   "metadata": {
    "slideshow": {
     "slide_type": "subslide"
    }
   },
   "source": [
    "- ニューケインジアン・モデルとしてよく知られているのは、以下の3本の線形差分方程式\n",
    "\n",
    "  - 消費のオイラー方程式(consumption Euler equation)\n",
    "  - ニューケインジアン・フィリップス曲線(New Keynesian Phillips curve)\n",
    "  - テイラー・ルール(Taylor rule)\n",
    "\n",
    "\n",
    "- この3本の式の線形モデルでも、ゼロ金利制約を導入するとモデルは非線形になり、解析解がある特殊なケースを除いては、数値解を求める必要がある"
   ]
  },
  {
   "cell_type": "markdown",
   "metadata": {
    "slideshow": {
     "slide_type": "subslide"
    }
   },
   "source": [
    "<!-- これまでは、モデルに不確実な要素のない確定的なケースのみを扱ってきた -->\n",
    "\n",
    "- ここではモデルに確率的なショックを導入する\n",
    "  - 自然利子率(natural rate of interest)はモデルで外生的なショックとして与えられる\n",
    "  \n",
    "- より一般的なケースでは、連続的空間においてショックがAR(1)過程に従う\n",
    "\n",
    "<!-- Tauchen(1986)等の手法を使うことで、$N$個の離散的な値をとるマルコフ連鎖で自己回帰過程を近似することができる -->"
   ]
  },
  {
   "cell_type": "markdown",
   "metadata": {
    "slideshow": {
     "slide_type": "subslide"
    }
   },
   "source": [
    "- 時間反復法は、最適金融政策の分析にも適用可能である\n",
    "\n",
    "- 最適金融政策は、政策決定者が均衡条件を制約として社会厚生を最大化するような配分を求める\n",
    "\n",
    "- 政策決定者が将来の経路にコミットできるとき、これを最適コミットメント政策という\n",
    "\n",
    "- そのようなコミットができないとき、政策決定者は毎期ごとの社会厚生を最大化し、これを最適裁量政策という"
   ]
  },
  {
   "cell_type": "markdown",
   "metadata": {
    "slideshow": {
     "slide_type": "subslide"
    }
   },
   "source": [
    "- 最適コミットメント政策は、フォワードガイダンスの理論的基礎となる\n",
    "\n",
    "- ゼロ金利下の最適コミットメント政策は、特別な場合を除き、数値計算によってのみ分析が可能である\n",
    "<!-- また、ゼロ金利制約以外の非線形性についても、時間反復法を用いて完全に非線形なケースを考えることができる-->"
   ]
  },
  {
   "cell_type": "markdown",
   "metadata": {
    "slideshow": {
     "slide_type": "subslide"
    }
   },
   "source": [
    "## ロードマップ\n",
    "\n",
    "- 2状態・準線形ニューケインジアン・モデル\n",
    "\n",
    "- 応用１：ゼロ金利下の財政乗数（Christiano, Eichenbaum and Rebelo, 2011）\n",
    "\n",
    "- ゼロ金利下の最適金融政策：裁量 vs. コミットメント\n",
    "\n",
    "- 応用２：フォワードガイダンス・ルール（Reifschneider and Williams, 2000; Katagiri and Sunakawa, work in progress）\n",
    "\n"
   ]
  },
  {
   "cell_type": "markdown",
   "metadata": {
    "slideshow": {
     "slide_type": "slide"
    }
   },
   "source": [
    "## ２状態・準線形モデル\n",
    "\n",
    "- 標準的な線形ニューケインジアン・モデルにゼロ金利制約を追加した準線形(quasi-linear)モデルを考える\n",
    "\n",
    "- 外生的なショック$s_{t}\\in\\{s_{H},s_{L}\\}$は$N_{s}=2$つだけの値をとる\n",
    "  - $s_{t}$はモデルの状態変数(state variable)であり、ここでは自然利子率\n",
    "  - $s_{H}>s_{L}$として、添字$\\{H,L\\}$は状態(state)がHighもしくはLowであることを示す\n"
   ]
  },
  {
   "cell_type": "markdown",
   "metadata": {
    "slideshow": {
     "slide_type": "subslide"
    }
   },
   "source": [
    "- 状態は、$H$と$L$の間を、ある確率過程にしたがって時間とともに動く\n",
    "\n",
    "- ここで、今期の状態がいずれかになる確率は、前期の状態にのみ依存するという仮定を置く。すなわち、確率過程は以下の遷移行列を持つマルコフ連鎖によって表される\n",
    "\n",
    "$$\n",
    "  P = \\left[\\begin{array}{cc}\n",
    "  1-p_{H} & p_{H} \\\\ \n",
    "  1-p_{L} & p_{L} \\end{array}\\right]\n",
    "$$\n",
    "\n",
    "- $p_{H}$：危機の発生確率\n",
    "\n",
    "- $p_{L}$：危機の持続確率"
   ]
  },
  {
   "cell_type": "markdown",
   "metadata": {
    "slideshow": {
     "slide_type": "subslide"
    }
   },
   "source": [
    "- モデルの均衡条件は、以下の3つの式からなる連立方程式で与えられる\n",
    "\n",
    "\\begin{align*}\n",
    "  y_{t} &= \\mathbb{E}_{t}y_{t+1} - \\left(r_{n,t}-\\mathbb{E}_{t}\\pi_{t+1}-s_{t}\\right) \\tag{1} \\\\\n",
    "  \\pi_{t} &= \\kappa y_{t} + \\beta \\mathbb{E}_{t}\\pi_{t+1} \\tag{2} \\\\\n",
    "  r_{n,t}^{*} &= r^{*} + \\phi_{\\pi} \\mathbb{E}_{t}\\pi_{t+1} \\tag{3}\n",
    "\\end{align*}"
   ]
  },
  {
   "cell_type": "markdown",
   "metadata": {
    "slideshow": {
     "slide_type": "fragment"
    }
   },
   "source": [
    "- これらの式は、家計や企業の最適化問題から導出された均衡条件を対数線形近似したものであり、それぞれ、消費のオイラー方程式、ニューケインジアン・フィリップス曲線、テイラー型の金融政策ルールと呼ばれる\n",
    "\n",
    "- $y_{t}$は生産ギャップ、$\\pi_{t}$はインフレ率、$r_{n,t}$は名目金利。$\\mathbb{E}_{t}$は合理的期待を表す期待オペレータ\n",
    "\n",
    "- $(\\beta,\\phi_{\\pi},\\kappa,r^{*})$はパラメータ：家計や企業の最適化行動のミクロ的基礎付けのある非線形モデルに基づく"
   ]
  },
  {
   "cell_type": "markdown",
   "metadata": {
    "slideshow": {
     "slide_type": "subslide"
    }
   },
   "source": [
    "- $r_{n,t}^{*}$はシャドーレートと呼ばれ、ゼロ金利制約がなければ名目金利と一致（$r_{n,t}^{*}=r_{n,t}$）する\n",
    "\n",
    "- 3つの未知数$(y_{t},\\pi_{t},r_{n,t})$に3本の方程式：通常の線形モデルの解法が使える"
   ]
  },
  {
   "cell_type": "markdown",
   "metadata": {
    "slideshow": {
     "slide_type": "fragment"
    }
   },
   "source": [
    "- ここで、名目金利はゼロを下回ることができないという制約を明示的に考えると、\n",
    "\n",
    "$$\n",
    "  r_{n,t} = \\max \\{r_{n,t}^{*}, 0\\} \\tag{4}\n",
    "$$\n",
    "\n",
    "この制約の下では、モデルの解は非線形となり、通常の線形モデルの解法はそのままでは使えない"
   ]
  },
  {
   "cell_type": "markdown",
   "metadata": {
    "slideshow": {
     "slide_type": "subslide"
    }
   },
   "source": [
    "## 準線形モデルの解析解\n",
    "\n",
    "<!-- $N=2$の場合、準線形モデルの解析解は比較的容易に導出できる -->\n",
    "\n",
    "- モデルの解は以下のような関数となる\n",
    "\n",
    "$$\n",
    "  y = \\varsigma_{y}(s), \\quad \\pi = \\varsigma_{\\pi}(s), \\quad r_{n} = \\varsigma_{r_{n}}(s) \n",
    "$$"
   ]
  },
  {
   "cell_type": "markdown",
   "metadata": {
    "slideshow": {
     "slide_type": "fragment"
    }
   },
   "source": [
    "- さらに、$s$のとりうる値は$N_{s}=2$つだけなので、これらの関数も2つの値のいずれかをとる。すなわち、\n",
    "\n",
    "$$\n",
    "  y\\in\\{y_{H},y_{L}\\}, \\quad \\pi\\in\\{\\pi_{H},\\pi_{L}\\}, \\quad r_{n}\\in\\{r_{n,H},r_{n,L}\\}\n",
    "$$\n",
    "\n",
    "がモデルの解となる\n",
    "\n",
    "- 以下では、$r_{n,H}>0, r_{n,L}=0$という仮定を置く"
   ]
  },
  {
   "cell_type": "markdown",
   "metadata": {
    "slideshow": {
     "slide_type": "subslide"
    }
   },
   "source": [
    "- ここで、\n",
    "\n",
    "\\begin{align*}\n",
    "  \\mathbb{E}_{t}y_{t+1} &= (1-p_{i})y_{H} + p_{i}y_{L} \\\\\n",
    "  \\mathbb{E}_{t}\\pi_{t+1} &= (1-p_{i})\\pi_{H} + p_{i}\\pi_{L}\n",
    "\\end{align*}\n",
    "\n",
    "をそれぞれの状態$i\\in\\{H,L\\}$における均衡条件に代入すると、\n",
    "\n",
    "\\begin{align*}\n",
    "  y_{H} &= (1-p_{H})y_{H} + p_{H}y_{L} - \\left(r_{n,t}-[(1-p_{H})\\pi_{H} + p_{H}\\pi_{L}]-s_{H}\\right) \\\\\n",
    "  \\pi_{H} &= \\kappa y_{H} + \\beta [(1-p_{H})\\pi_{H} + p_{H}\\pi_{L}] \\\\\n",
    "  r_{n,H} &= r^{*} + \\phi_{\\pi} [(1-p_{H})\\pi_{H} + p_{H}\\pi_{L}] \\\\\n",
    "  y_{L} &= (1-p_{L})y_{H} + p_{L}y_{L} - \\left(r_{n,t}-[(1-p_{L})\\pi_{H} + p_{L}\\pi_{L}]-s_{L}\\right) \\\\\n",
    "  \\pi_{L} &= \\kappa y_{L} + \\beta [(1-p_{L})\\pi_{H} + p_{L}\\pi_{L}] \\\\\n",
    "  r_{n,L} &= 0  \n",
    "\\end{align*}\n",
    "\n",
    "6つの未知数に対して6つの線形の方程式があるため、未知数を解析的に求めることができる"
   ]
  },
  {
   "cell_type": "markdown",
   "metadata": {
    "slideshow": {
     "slide_type": "subslide"
    }
   },
   "source": [
    "## 時間反復法による数値解\n",
    "\n",
    "- 準線形モデルは、時間反復法を使っても解くことができる\n",
    "\n",
    "- $N_{s}$が大きい場合は解析解を求めるのが非常に煩雑になるため、このアプローチが有用"
   ]
  },
  {
   "cell_type": "markdown",
   "metadata": {
    "slideshow": {
     "slide_type": "fragment"
    }
   },
   "source": [
    "### アルゴリズム\n",
    "\n",
    "1. グリッド生成：状態空間の評価点を有限個のグリッドに区切る。$(s_{H},s_{L})$はすでに与えられている\n",
    "\n",
    "2. 収束の基準：収束の基準になるパラメータ$\\varepsilon>0$を与える"
   ]
  },
  {
   "cell_type": "markdown",
   "metadata": {
    "slideshow": {
     "slide_type": "subslide"
    }
   },
   "source": [
    "3. 最適化：古い政策関数\n",
    "\n",
    "$$\n",
    "y = \\varsigma_{y}^{(n-1)}(s), \\quad \\pi = \\varsigma_{\\pi}^{(n-1)}(s)\n",
    "$$\n",
    "\n",
    "およびグリッドにおける$\\color{blue}{s_{i}}$の値を所与として、以下の式を$(\\color{magenta}{y_{i},\\pi_{i},r_{n,i}})$について解く\n",
    "\n",
    "\\begin{align*}\n",
    "  \\color{magenta}{y_{i}} &= y_{i}^{e} - \\left(\\color{magenta}{r_{n,i}}-\\pi_{i}^{e}-\\color{blue}{s_{i}}\\right) \\\\\n",
    "  \\color{magenta}{\\pi_{i}} &= \\kappa \\color{magenta}{y_{i}} + \\beta \\pi_{i}^{e} \\\\\n",
    "  \\color{magenta}{r_{n,i}} &= \\max\\{r^{*} + \\phi_{\\pi} \\pi_{i}^{e}, 0\\}\n",
    "\\end{align*}"
   ]
  },
  {
   "cell_type": "markdown",
   "metadata": {
    "slideshow": {
     "slide_type": "subslide"
    }
   },
   "source": [
    "ここで、\n",
    "\n",
    "\\begin{align*}\n",
    "  y_{i}^{e} &= (1-p_{i})\\varsigma_{y}^{(n-1)}(s_{H}) + p_{i}\\varsigma_{y}^{(n-1)}(s_{L}) \\\\\n",
    "  \\pi_{i}^{e} &= (1-p_{i})\\varsigma_{\\pi}^{(n-1)}(s_{H}) + p_{i}\\varsigma_{\\pi}^{(n-1)}(s_{L})\n",
    "\\end{align*}\n",
    "\n",
    "であり、期待値は過去の政策関数の値から求められる\n",
    "\n",
    "このステップで、それぞれのグリッド上の政策関数の値、すなわち新しい政策関数のベクトル$\\varsigma^{(n)}(s_{i})=(\\varsigma_{y}^{(n)}(s_{i}),\\varsigma_{\\pi}^{(n)}(s_{i}),\\varsigma_{r_{n}}^{(n)}(s_{i}))$\n",
    "\n",
    "$$\n",
    "  (y_{H}^{(n)},y_{L}^{(n)}), \\quad (\\pi_{H}^{(n)},\\pi_{L}^{(n)}), \\quad (r_{n,H}^{(n)},r_{n,L}^{(n)}) \n",
    "$$\n",
    "\n",
    "を得る\n",
    "\n",
    "4. 全ての$s_{i}$について$\\|\\varsigma^{(n)}(s_{i})-\\varsigma^{(n-1)}(s_{i})\\|<\\varepsilon$であればストップ。そうでなければ、$\\varsigma^{(n)}(s_{i})$を$\\varsigma^{(n-1)}(s_{i})$に代入して、ステップ3-4を繰り返す"
   ]
  },
  {
   "cell_type": "markdown",
   "metadata": {
    "slideshow": {
     "slide_type": "subslide"
    }
   },
   "source": [
    "- $p_{H}=0$の場合、状態$H$は吸収状態(absorbing state)：一度状態が$H$になった後は動かない\n",
    "\n",
    "- 状態$H$では、政策金利（名目金利）は正の値、産出ギャップとインフレ率はゼロ\n",
    "\n",
    "<br>\n",
    "<div align=\"center\">\n",
    "<img src=\"./two.png\",width=\"800\",height=\"400\">\n",
    "</div>"
   ]
  },
  {
   "cell_type": "markdown",
   "metadata": {
    "slideshow": {
     "slide_type": "fragment"
    }
   },
   "source": [
    "- $p_{H}>0$の場合、状態$H$で政策金利が下がる：ゼロ金利制約による不確実性の非中立性(non-neutrality of uncertainty)"
   ]
  },
  {
   "cell_type": "markdown",
   "metadata": {
    "slideshow": {
     "slide_type": "subslide"
    }
   },
   "source": [
    "## 応用：ゼロ金利下の財政乗数\n",
    "\n",
    "- 以下の準線形モデルを考える（Christiano, Eichenbaum and Rebelo, 2011）\n",
    "\n",
    "\\begin{align*}\n",
    "  \\lambda_{t} &= \\mathbb{E}_{t}\\lambda_{t+1} \\color{red}{+} \\left(r_{n,t}-\\mathbb{E}_{t}\\pi_{t+1}-s_{t}\\right) \\\\\n",
    "  \\lambda_{t} &= d_{c}c_{t} + d_{n}n_{t} \\\\\n",
    "  \\pi_{t} &= \\kappa (c_{t} + \\frac{N}{1-N}n_{t}) + \\beta \\mathbb{E}_{t}\\pi_{t+1} \\\\\n",
    "  y_{t} &= (1-g_{y})c_{t} + g_{y}g_{t} \\\\\n",
    "  n_{t} &= y_{t} \\\\\n",
    "  r_{n,t}^{*} &= r^{*} + \\phi_{\\pi} \\mathbb{E}_{t}\\pi_{t+1} \\\\\n",
    "  r_{n,t} &= \\max \\{r_{n,t}^{*}, 0\\}\n",
    "\\end{align*}\n",
    "\n",
    "ここで、$d_{c} = \\gamma(1-\\sigma)-1, d_{n} = -(1-\\gamma)(1-\\sigma)N/(1-N)$"
   ]
  },
  {
   "cell_type": "markdown",
   "metadata": {
    "slideshow": {
     "slide_type": "subslide"
    }
   },
   "source": [
    "- 確率変数$(s_{t},g_{t})$はそれぞれ2つの値のいずれか$s_{t}\\in\\{s_{H},s_{L}\\}, g_{t}\\in\\{g_{H},g_{L}\\}$をとり、以下の遷移行列を持つ共通の確率過程に従うとする\n",
    "$$\n",
    "  P = \\left[\\begin{array}{cc}\n",
    "  1-p_{H} & p_{H} \\\\ \n",
    "  1-p_{L} & p_{L} \\end{array}\\right]\n",
    "$$\n",
    "\n",
    "すなわち、状態$H$：$(s_{t},g_{t})=(s_{H},g_{H})$、状態$L$：$(s_{t},g_{t})=(s_{L},g_{L})$"
   ]
  },
  {
   "cell_type": "markdown",
   "metadata": {
    "slideshow": {
     "slide_type": "subslide"
    }
   },
   "source": [
    "<!-- $N=2$の場合、準線形モデルの解析解は比較的容易に導出できる -->\n",
    "\n",
    "- モデルの解は以下のような関数となる\n",
    "\n",
    "$$\n",
    "  y = \\varsigma_{y}(s,g), \\quad \\pi = \\varsigma_{\\pi}(s,g), \\quad r_{n} = \\varsigma_{r_{n}}(s,g), \\\\\n",
    "  c = \\varsigma_{c}(s,g), \\quad n = \\varsigma_{n}(s,g), \\quad \\lambda = \\varsigma_{\\lambda}(s,g)\n",
    "$$"
   ]
  },
  {
   "cell_type": "markdown",
   "metadata": {
    "slideshow": {
     "slide_type": "fragment"
    }
   },
   "source": [
    "- $(s,g)$のとりうる値は2つだけなので、これらの関数も2つの値のいずれかをとる。すなわち、\n",
    "\n",
    "$$\n",
    "  y\\in\\{y_{H},y_{L}\\}, \\quad \\pi\\in\\{\\pi_{H},\\pi_{L}\\}, \\quad r_{n}\\in\\{r_{n,H},r_{n,L}\\}, \\\\\n",
    "  c\\in\\{c_{H},c_{L}\\}, \\quad n\\in\\{n_{H},n_{L}\\}, \\quad \\lambda\\in\\{\\lambda_{H},\\lambda_{L}\\},\n",
    "$$\n",
    "\n",
    "がモデルの解となる\n",
    "\n",
    "- 以下では、$r_{n,H}>0, r_{n,L}=0$という仮定を置く\n",
    "\n",
    "- また、状態$H$では財政支出はゼロに基準化（$g_{H}=0$）"
   ]
  },
  {
   "cell_type": "markdown",
   "metadata": {
    "slideshow": {
     "slide_type": "subslide"
    }
   },
   "source": [
    "- ゼロ金利下の財政乗数は、$g_{L}$を1単位増やしたときの$y_{L}$の増分：$y_{L}(g_{L}=1)-y_{L}(g_{L}=0)$として定義できる\n",
    "\n",
    "- 時間反復法を使ってそのような$y_{L}$の増分を求めることができる\n",
    "\n",
    "| パラメータ | 説明 | 値 |\n",
    "| :--- | :--- | :---: |\n",
    "| $\\beta$ | 割引因子 | 0.99 |\n",
    "| $\\kappa$ | フィリップス曲線の傾き | 0.03 |\n",
    "| $\\phi_{\\pi}$ | 期待インフレの反応係数 | 1.5 |\n",
    "| $g_{y}$ | 政府支出対GDP比 | 0.2 |\n",
    "| $\\sigma$ | 異時点間の代替弾力性 | 1 |\n",
    "| $\\gamma$ | フリッシュ弾力性の逆数 | 0.29 |\n",
    "| $N$ | 労働投入の定常値 | 1/3 |\n",
    "| $p_H$ | 危機の発生確率 | $\\color{red}{0.0}$ |\n",
    "| $p_L$ | 危機の持続確率 | 0.8 |\n",
    "| $r^*$ | 自然利子率（通常時） | 1.0% |\n",
    "| $r_c$ | 自然利子率（危機時） | -1.5% |"
   ]
  },
  {
   "cell_type": "markdown",
   "metadata": {
    "slideshow": {
     "slide_type": "subslide"
    }
   },
   "source": [
    "- $p_{L}=0.8$のときの財政乗数の値は、ゼロ金利の下では$3.60$なのに対して、ゼロ金利を考慮しないと$1.12$と、大きく異なる\n",
    "\n",
    "- 財政乗数の値は、（ゼロ金利の下ではとくに）ショックの慣性に依存する\n",
    "\n",
    "<br>\n",
    "<div align=\"center\">\n",
    "<img src=\"./cer.png\",width=\"800\",height=\"400\">\n",
    "</div>"
   ]
  },
  {
   "cell_type": "markdown",
   "metadata": {
    "slideshow": {
     "slide_type": "slide"
    }
   },
   "source": [
    "## 準線形モデルにおける最適金融政策\n",
    "\n",
    "<!--- 時間反復法を使った実際の応用例として、準線形モデルを用いて、ゼロ金利制約下での最適金融政策を考えたAdam and Billi(2006; 2007)を紹介する -->\n",
    "\n",
    "- ニューケインジアン・モデルでは、一般には、社会計画者問題における最適配分を実現できない\n",
    "\n",
    "- 最適金融政策とは、社会計画者問題における配分にできるだけ近い配分を達成するような金融政策のこと\n",
    "\n",
    "<!--  - テクニカルには、代表的家計の価値関数を2次関数で近似した目的関数を社会厚生とみなして、線形近似した均衡条件を制約として最大化する -->"
   ]
  },
  {
   "cell_type": "markdown",
   "metadata": {
    "slideshow": {
     "slide_type": "subslide"
    }
   },
   "source": [
    "- 動学最適化問題において、政策決定者が現在だけでなく将来の変数についても操作し、将来の経路にコミットできるとき、これを最適コミットメント政策という\n",
    "\n",
    "- そのようなコミットができない場合は、政策決定者は毎期ごとの社会厚生を最大化するように変数を選ぶことになり、これを最適裁量政策という"
   ]
  },
  {
   "cell_type": "markdown",
   "metadata": {
    "slideshow": {
     "slide_type": "subslide"
    }
   },
   "source": [
    "- 負のショック($s_{t}=s_{L}$)が8四半期続くとしよう\n",
    "\n",
    "<br>\n",
    "<div align=\"center\">\n",
    "<img src=\"./comm.png\",width=\"800\",height=\"400\">\n",
    "\n",
    "- 最適裁量政策では、ショックが続いている間のみ、政策金利を引き下げる。このような政策はショックを緩和するには十分でなく、産出ギャップやインフレ率は大きく落ち込む\n",
    "\n",
    "- 最適コミットメント政策では、ショック期間が終わったあとも、政策金利を低くすることにあらかじめコミットする。\n",
    "このような政策は、家計や企業の将来に対する期待を通じて、現在の産出ギャップやインフレ率を引き上げる"
   ]
  },
  {
   "cell_type": "markdown",
   "metadata": {
    "slideshow": {
     "slide_type": "subslide"
    }
   },
   "source": [
    "- 最適コミットメント政策は、歴史依存的な政策とも呼ばれる：過去のコミットメントが現在の経済に影響を与える\n",
    "  - ただし、動学的非整合性の問題がある(Walsh, 2018; Nakata and Sunakawa, 2020)\n"
   ]
  },
  {
   "cell_type": "markdown",
   "metadata": {
    "slideshow": {
     "slide_type": "subslide"
    }
   },
   "source": [
    "## 応用：フォワードガイダンス・ルール\n",
    "\n",
    "- 最適コミットメント政策を近似するような政策ルールはどのようなものだろうか？\n",
    "\n",
    "\n",
    "- 以下の歴史依存的な政策ルールを考える(Reifschneider and Williams, 2000)\n",
    "\n",
    "\\begin{align*}\n",
    "  r_{n,t}^{*} &= r^{*} + \\phi_{\\pi} \\mathbb{E}_{t}\\pi_{t+1} \\\\\n",
    "  r_{n,t} &= \\max \\{r_{n,t}^{*}-m_{t-1}, 0\\} \\\\\n",
    "  m_{t} &= m_{t-1} + (r_{n,t}-r_{n,t}^{*})\n",
    "\\end{align*}\n",
    "\n",
    "ここで、$m_{-1}=0$は所与"
   ]
  },
  {
   "cell_type": "markdown",
   "metadata": {
    "slideshow": {
     "slide_type": "subslide"
    }
   },
   "source": [
    "[TBW]\n",
    "- ZLBがバインドしなければ、$r_{n,t}=r_{n,t}^{*}>0$および$m_{t}=m_{t-1}=0$\n",
    "\n",
    "- 一度ZLBがバインドすると、\n",
    "\n",
    "    - $r_{n,t}>r_{n,t}^{*}$の場合、$m_{t}-m_{t-1}>0$：$m_{t}$は積み上がっていく\n",
    "\n",
    "    - $r_{n,t}<r_{n,t}^{*}$の場合、$m_{t}-m_{t-1}<0$：$m_{t}$はゼロに近づいていく\n",
    "        - $r_{n,t}^{*}>0$でも、$r_{n,t}^{*}<m_{t-1}$である限り、$r_{n,t}=0$\n",
    "        \n",
    "- $m_{t-1}>0$が、将来のより長めの低金利(lower-for-longer)へのコミットメントをあらわす"
   ]
  },
  {
   "cell_type": "markdown",
   "metadata": {
    "slideshow": {
     "slide_type": "subslide"
    }
   },
   "source": [
    "## 時間反復法による数値解\n",
    "\n",
    "<!-- $N=2$の場合、準線形モデルの解析解は比較的容易に導出できる -->\n",
    "\n",
    "- ここで、$m_{t-1}$は内生状態変数(endogenous state variable)と呼ばれる\n",
    "\n",
    "- モデルの解は以下のような関数となる\n",
    "\n",
    "$$\n",
    "  y = \\varsigma_{y}(m_{-1},s), \\quad \\pi = \\varsigma_{\\pi}(m_{-1},s), \\quad r_{n} = \\varsigma_{r_{n}}(m_{-1},s), \\\\\n",
    "  r_{n}^{*} = \\varsigma_{r_{n}^{*}}(m_{-1},s), \\quad m = \\varsigma_{m}(m_{-1},s)\n",
    "$$"
   ]
  },
  {
   "cell_type": "markdown",
   "metadata": {
    "slideshow": {
     "slide_type": "subslide"
    }
   },
   "source": [
    "### アルゴリズム\n",
    "\n",
    "1. グリッド生成：状態空間の評価点を有限個のグリッドに区切る\n",
    "\n",
    "$(s_{H},s_{L})$はすでに与えられている\n",
    "\n",
    "$m_{-1}$については、$m_{-1,j}\\in[0,m_{max}]$を$j=1,...,N$個のグリッド$(m_{-1,1},m_{-1,2},...,m_{-1,N})$に分割\n",
    "\n",
    "2. 収束の基準：収束の基準になるパラメータ$\\varepsilon>0$を与える"
   ]
  },
  {
   "cell_type": "markdown",
   "metadata": {
    "slideshow": {
     "slide_type": "subslide"
    }
   },
   "source": [
    "3. 最適化および補間：古い政策関数\n",
    "\n",
    "$$\n",
    "y = \\varsigma_{y}^{(n-1)}(m_{-1},s), \\quad \\pi = \\varsigma_{\\pi}^{(n-1)}(m_{-1},s)\n",
    "$$\n",
    "\n",
    "およびそれぞれのグリッドにおける$(\\color{blue}{m_{-1,j},s_{i}})$の値を所与として、以下の式を$(\\color{magenta}{y_{i,j},\\pi_{i,j},r_{n,i,j},r_{n,i,j}^{*},m_{i,j}})$について解く\n",
    "\n",
    "\\begin{align*}\n",
    "  \\color{magenta}{y_{i,j}} &= y_{i}^{e}(\\color{magenta}{m_{i,j}}) - \\left(\\color{magenta}{r_{n,i,j}}-\\pi_{i}^{e}(\\color{magenta}{m_{i,j}})-\\color{blue}{s_{i}}\\right) \\\\\n",
    "  \\color{magenta}{\\pi_{i,j}} &= \\kappa \\color{magenta}{y_{i,j}} + \\beta \\pi_{i}^{e}(\\color{magenta}{m_{i,j}}) \\\\\n",
    "  \\color{magenta}{r_{n,i,j}^{*}} &= r^{*} + \\phi_{\\pi} \\pi_{i}^{e}(\\color{magenta}{m_{i,j}}) \\\\\n",
    "  \\color{magenta}{r_{n,i,j}} &= \\max\\{\\color{magenta}{r_{n,i,j}^{*}}-\\color{blue}{m_{-1,j}}, 0\\} \\\\\n",
    "  \\color{magenta}{m_{i,j}} &= \\color{blue}{m_{-1,j}} + (\\color{magenta}{r_{n,i,j}}-\\color{magenta}{r_{n,i,j}^{*}})\n",
    "\\end{align*}\n",
    "\n",
    "ゼロ点を数値的に解く最適化アルゴリズム（ニュートン法など）を用いる"
   ]
  },
  {
   "cell_type": "markdown",
   "metadata": {
    "slideshow": {
     "slide_type": "subslide"
    }
   },
   "source": [
    "ここで、$y_{i}^{e}(\\color{magenta}{m_{i,j}}),\\pi_{i}^{e}(\\color{magenta}{m_{i,j}})$は$\\color{magenta}{m_{i,j}}$の非線形な関数\n",
    "\n",
    "\\begin{align*}\n",
    "  y_{i}^{e}(\\color{magenta}{m_{i,j}}) &= (1-p_{i})\\varsigma_{y}^{(n-1)}(\\color{magenta}{m_{i,j}},s_{H}) + p_{i}\\varsigma_{y}^{(n-1)}(\\color{magenta}{m_{i,j}},s_{L}) \\\\\n",
    "  \\pi_{i}^{e}(\\color{magenta}{m_{i,j}}) &= (1-p_{i})\\varsigma_{\\pi}^{(n-1)}(\\color{magenta}{m_{i,j}},s_{H}) + p_{i}\\varsigma_{\\pi}^{(n-1)}(\\color{magenta}{m_{i,j}},s_{L})\n",
    "\\end{align*}\n",
    "\n",
    "である。$\\color{magenta}{m_{i,j}}$はグリッド上にあるとは限らないので、$\\varsigma^{(n-1)}(\\color{blue}{m_{-1,j},s_{i}})$の値から補間する必要がある\n",
    "\n",
    "このステップで、新しい政策関数のベクトル$\\varsigma^{(n)}(m_{-1,j},s_{i})$\n",
    "\n",
    "$$\n",
    "  (y_{H,1}^{(n)},y_{H,2}^{(n)},...,y_{H,N}^{(n)},y_{L,1}^{(n)},y_{L,2}^{(n)},...,,y_{L,N}^{(n)}), \\\\\n",
    "  (\\pi_{H,1}^{(n)},\\pi_{H,2}^{(n)},...,\\pi_{H,N}^{(n)},\\pi_{L,1}^{(n)},\\pi_{L,2}^{(n)},...,,\\pi_{L,N}^{(n)}), \\\\\n",
    "  (r_{n,H,1}^{(n)},r_{n,H,2}^{(n)},...,r_{n,H,N}^{(n)},r_{n,L,1}^{(n)},r_{n,L,2}^{(n)},...,,r_{n,L,N}^{(n)}), \\\\\n",
    "  (r_{n,H,1}^{*(n)},r_{n,H,2}^{*(n)},...,r_{n,H,N}^{*(n)},r_{n,L,1}^{*(n)},r_{n,L,2}^{*(n)},...,,r_{n,L,N}^{*(n)}), \\\\\n",
    "  (m_{H,1}^{(n)},m_{H,2}^{(n)},...,m_{H,N}^{(n)},m_{L,1}^{(n)},m_{L,2}^{(n)},...,,m_{L,N}^{(n)})\n",
    "$$\n",
    "\n",
    "を得る"
   ]
  },
  {
   "cell_type": "markdown",
   "metadata": {
    "slideshow": {
     "slide_type": "subslide"
    }
   },
   "source": [
    "4. 全ての$(m_{-1,j},s_{i})$について$\\|\\varsigma^{(n)}(m_{-1,j},s_{i})-\\varsigma^{(n-1)}(m_{-1,j},s_{i})\\|<\\varepsilon$であればストップ。そうでなければ、$\\varsigma^{(n)}(m_{-1,j},s_{i})$を$\\varsigma^{(n-1)}(m_{-1,j},s_{i})$に代入して、ステップ3-4を繰り返す"
   ]
  },
  {
   "cell_type": "markdown",
   "metadata": {
    "slideshow": {
     "slide_type": "subslide"
    }
   },
   "source": [
    "- 政策関数[TBW]"
   ]
  },
  {
   "cell_type": "markdown",
   "metadata": {
    "slideshow": {
     "slide_type": "subslide"
    }
   },
   "source": [
    "- 動学[TBW]"
   ]
  },
  {
   "cell_type": "markdown",
   "metadata": {
    "slideshow": {
     "slide_type": "slide"
    }
   },
   "source": [
    "## 補論：最適コミットメント政策と最適裁量政策\n",
    "\n",
    "- 政策決定者は、以下の社会厚生を最大化するように$\\{y_{t},\\pi_{t},r_{n,t}\\}_{t=0}^{\\infty}$の流列を求める\n",
    "\n",
    "$$\n",
    "  \\max_{\\{y_{t},\\pi_{t},r_{n,t}\\}_{t=0}^{\\infty}} -\\mathbb{E}_{0}\\sum_{t=0}^{\\infty}\\beta^{t}\\left(\\pi_{t}^{2} + \\lambda y_{t}^{2}\\right)\n",
    "$$\n",
    "\n",
    "subject to\n",
    "\n",
    "\\begin{align*}\n",
    "  y_{t} &= \\mathbb{E}_{t}y_{t+1} - \\left(r_{n,t}-\\mathbb{E}_{t}\\pi_{t+1} - s_{t}\\right) \\\\\n",
    "  \\pi_{t} &= \\kappa y_{t} + \\beta \\mathbb{E}_{t}\\pi_{t+1} \\\\\n",
    "  r_{n,t} &\\geq 0\n",
    "\\end{align*}"
   ]
  },
  {
   "cell_type": "markdown",
   "metadata": {
    "slideshow": {
     "slide_type": "fragment"
    }
   },
   "source": [
    "- 社会厚生は、現在から無限先の将来にわたっての、産出ギャップとインフレ率の2乗の加重和の割引現在価値で与えられる\n",
    "\n",
    "- 政策決定者は、名目金利だけでなくその他の変数も直接選ぶことに注意"
   ]
  },
  {
   "cell_type": "markdown",
   "metadata": {
    "slideshow": {
     "slide_type": "subslide"
    }
   },
   "source": [
    "- 政策決定者の動学最適化問題は、動的ラグランジュアンとその1階の必要条件を用いて解くことができる\n",
    "\n",
    "\\begin{align*}\n",
    "  \\mathcal{L}_{0} \\equiv & \\mathbb{E}_{0}\\sum_{t=0}^{\\infty}\\{\\beta^{t}\\left(\\pi_{t}^{2} + \\lambda y_{t}^{2}\\right) \\\\\n",
    "  & + 2\\phi_{PC,t}\\left(-\\pi_{t} + \\kappa y_{t} + \\beta \\mathbb{E}_{t}\\pi_{t+1}\\right) \\\\\n",
    "  & + 2\\phi_{EE,t}\\left(-y_{t} + \\mathbb{E}_{t}y_{t+1} - \\left(r_{n,t}-\\mathbb{E}_{t}\\pi_{t+1}-s_{t}\\right)\\right) \\\\\n",
    "  & + 2\\phi_{ZLB,t}r_{n,t}\\}\n",
    "\\end{align*}\n",
    "\n",
    "ここで、$\\{\\phi_{PC,t},\\phi_{EE,t},\\phi_{ZLB,t}\\}_{t=0}^{\\infty}$はそれぞれの均衡条件にかかるラグランジュ乗数である"
   ]
  },
  {
   "cell_type": "markdown",
   "metadata": {
    "slideshow": {
     "slide_type": "subslide"
    }
   },
   "source": [
    "### 最適コミットメント政策\n",
    "\n",
    "- 最適コミットメント政策では、政策決定者は、時点0で現在から将来にわたる変数について社会厚生を最大化するように選ぶ\n",
    "\n",
    "- このとき、動的ラグランジュアンの1階の必要条件は\n",
    "\n",
    "\\begin{align*}\n",
    "  \\pi_{t}: & \\pi_{t} - \\phi_{PC,t} + \\phi_{PC,t-1} + \\beta^{-1}\\phi_{EE,t-1} = 0 \\\\ \n",
    "  y_{t}: & \\lambda y_{t} + \\kappa \\phi_{PC,t} - \\phi_{EE,t} + \\beta^{-1}\\phi_{EE,t-1} = 0 \\\\ \n",
    "  r_{n,t}: & -\\phi_{EE,t} + \\phi_{ZLB,t} = 0 \n",
    "\\end{align*}\n",
    "\n",
    "となる"
   ]
  },
  {
   "cell_type": "markdown",
   "metadata": {
    "slideshow": {
     "slide_type": "subslide"
    }
   },
   "source": [
    "- ここで、$\\phi_{ZLB,t}$はゼロ金利制約にかかるラグランジュ乗数であり、ゼロ金利制約がバインドしない限りはゼロになる\n",
    "\n",
    "- このことは以下の相補スラック条件にまとめられる\n",
    "\n",
    "$$\n",
    "  \\phi_{ZLB,t} r_{n,t} = 0, \\quad \\phi_{ZLB,t} \\geq 0, \\quad r_{n,t} \\geq 0\n",
    "$$\n",
    "\n",
    "- すなわち、$\\phi_{ZLB,t} > 0$あるいは$r_{n,t} > 0$のいずれかが成り立ち、均衡条件は$r_{n,t}$の値によって場合分けされる"
   ]
  },
  {
   "cell_type": "markdown",
   "metadata": {
    "slideshow": {
     "slide_type": "subslide"
    }
   },
   "source": [
    "- ここで、$(\\phi_{EE,t-1},\\phi_{PC,t-1})$は内生状態変数である\n",
    "\n",
    "- モデルの解は以下のような関数となる：政策関数は、外生的なショックのほかに内生状態変数にも依存する\n",
    "\n",
    "$$\n",
    "  y = \\varsigma_{y}(\\phi_{EE,-1},\\phi_{PC,-1},s), \\quad \\pi = \\varsigma_{\\pi}(\\phi_{EE,-1},\\phi_{PC,-1},s), \\quad r_{n} = \\varsigma_{r_{n}}(\\phi_{EE,-1},\\phi_{PC,-1},s) \\\\\n",
    "  \\phi_{EE} = \\varsigma_{y}(\\phi_{EE,-1},\\phi_{PC,-1},s), \\quad \\phi_{PC} = \\varsigma_{\\pi}(\\phi_{EE,-1},\\phi_{PC,-1},s)\n",
    "$$"
   ]
  },
  {
   "cell_type": "markdown",
   "metadata": {
    "slideshow": {
     "slide_type": "subslide"
    }
   },
   "source": [
    "### 最適裁量政策\n",
    "\n",
    "- 最適裁量政策では、政策決定者は将来の変数にコミットできず、毎期ごとにその時点の変数を社会厚生を最大化するように選ぶ\n",
    "\n",
    "- この場合、$(\\mathbb{E}_{t}y_{t+1},\\mathbb{E}_{t}\\pi_{t+1})$を所与とした動的ラグランジュアンの1階条件から、解となる政策関数を求めることができる。すなわち、\n",
    "\n",
    "\\begin{align*}\n",
    "  \\pi_{t}: & \\pi_{t} - \\phi_{PC,t} = 0 \\\\ \n",
    "  y_{t}: & \\lambda y_{t} + \\kappa \\phi_{PC,t} - \\phi_{EE,t} = 0 \\\\ \n",
    "  r_{n,t}: & -\\phi_{EE,t} + \\phi_{ZLB,t} = 0 \n",
    "\\end{align*}\n"
   ]
  },
  {
   "cell_type": "markdown",
   "metadata": {
    "slideshow": {
     "slide_type": "subslide"
    }
   },
   "source": [
    "- 相補スラック条件より、もし$r_{n,t} > 0$であれば、$\\phi_{ZLB,t} = 0$である。このとき均衡条件は、\n",
    "\n",
    "\\begin{align*}\n",
    "  r_{n,t} &= -y_{t} + \\mathbb{E}_{t}y_{t+1} + \\mathbb{E}_{t}\\pi_{t+1} + g_{t} \\\\\n",
    "  \\pi_{t} &= \\kappa y_{t} + \\beta \\mathbb{E}_{t}\\pi_{t+1} +u_{t} = 0 \\\\\n",
    "  0 &= \\lambda y_{t} + \\kappa \\pi_{t}\n",
    "\\end{align*}"
   ]
  },
  {
   "cell_type": "markdown",
   "metadata": {
    "slideshow": {
     "slide_type": "fragment"
    }
   },
   "source": [
    "- あるいは、もし$r_{n,t}=0$であれば、$\\phi_{ZLB,t} = \\phi_{EE,t} > 0$である。このとき均衡条件は、\n",
    "\n",
    "\\begin{align*}\n",
    "  0 &= -y_{t} + \\mathbb{E}_{t}y_{t+1} + \\mathbb{E}_{t}\\pi_{t+1} + g_{t} \\\\\n",
    "  \\pi_{t} &= \\kappa y_{t} + \\beta \\mathbb{E}_{t}\\pi_{t+1} +u_{t} = 0 \\\\\n",
    "  \\phi_{EE,t} &= \\lambda y_{t} + \\kappa \\pi_{t}\n",
    "\\end{align*}"
   ]
  },
  {
   "cell_type": "markdown",
   "metadata": {
    "slideshow": {
     "slide_type": "subslide"
    }
   },
   "source": [
    "- いずれの場合も、3つの未知数に対して3つの式があるので、解を求めることができる"
   ]
  },
  {
   "cell_type": "markdown",
   "metadata": {
    "slideshow": {
     "slide_type": "fragment"
    }
   },
   "source": [
    "- モデルの解は以下のような関数となる\n",
    "\n",
    "$$\n",
    "  y = \\varsigma_{y}(s), \\quad \\pi = \\varsigma_{\\pi}(s), \\quad r_{n} = \\varsigma_{r_{n}}(s) \n",
    "$$"
   ]
  }
 ],
 "metadata": {
  "celltoolbar": "Slideshow",
  "kernelspec": {
   "display_name": "Python 3",
   "language": "python",
   "name": "python3"
  },
  "language_info": {
   "codemirror_mode": {
    "name": "ipython",
    "version": 3
   },
   "file_extension": ".py",
   "mimetype": "text/x-python",
   "name": "python",
   "nbconvert_exporter": "python",
   "pygments_lexer": "ipython3",
   "version": "3.8.5"
  },
  "livereveal": {
   "autolaunch": true,
   "scroll": true
  }
 },
 "nbformat": 4,
 "nbformat_minor": 4
}
